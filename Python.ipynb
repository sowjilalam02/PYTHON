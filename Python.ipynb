{
  "nbformat": 4,
  "nbformat_minor": 0,
  "metadata": {
    "colab": {
      "provenance": [],
      "authorship_tag": "ABX9TyNMEtgZAJDkFhbDfMcX6UoU",
      "include_colab_link": true
    },
    "kernelspec": {
      "name": "python3",
      "display_name": "Python 3"
    },
    "language_info": {
      "name": "python"
    }
  },
  "cells": [
    {
      "cell_type": "markdown",
      "metadata": {
        "id": "view-in-github",
        "colab_type": "text"
      },
      "source": [
        "<a href=\"https://colab.research.google.com/github/sowjilalam02/PYTHON/blob/main/Python.ipynb\" target=\"_parent\"><img src=\"https://colab.research.google.com/assets/colab-badge.svg\" alt=\"Open In Colab\"/></a>"
      ]
    },
    {
      "cell_type": "code",
      "execution_count": null,
      "metadata": {
        "id": "_fKbos_6LRvP",
        "colab": {
          "base_uri": "https://localhost:8080/"
        },
        "outputId": "ba123750-a7c9-4f49-fdce-9312df33e8aa"
      },
      "outputs": [
        {
          "output_type": "stream",
          "name": "stdout",
          "text": [
            "{'name': 'harsha', 'age': 16}\n",
            "<class 'dict'>\n"
          ]
        }
      ],
      "source": [
        "x={\"name\":\"harsha\",\"age\":16,}\n",
        "print(x)\n",
        "print(type(x))"
      ]
    },
    {
      "cell_type": "code",
      "source": [
        "x={\"name\":\"harsha\",\"age\":16,}\n",
        "print(x.keys())\n",
        "print(x.values())\n",
        "print(x.items())\n",
        "print(x)\n",
        "print(type(x))"
      ],
      "metadata": {
        "colab": {
          "base_uri": "https://localhost:8080/"
        },
        "id": "T_ZaFaM5NLHr",
        "outputId": "c1d348c3-98de-403c-8f4c-b603e5503dd0"
      },
      "execution_count": null,
      "outputs": [
        {
          "output_type": "stream",
          "name": "stdout",
          "text": [
            "dict_keys(['name', 'age'])\n",
            "dict_values(['harsha', 16])\n",
            "dict_items([('name', 'harsha'), ('age', 16)])\n",
            "{'name': 'harsha', 'age': 16}\n",
            "<class 'dict'>\n"
          ]
        }
      ]
    },
    {
      "cell_type": "code",
      "source": [
        "A=(\"sowji\",\"harsha\",9.6,True)\n",
        "print(A.index(\"harsha\"))\n",
        "print(type(A))"
      ],
      "metadata": {
        "colab": {
          "base_uri": "https://localhost:8080/"
        },
        "id": "xLt5qasxQ-u1",
        "outputId": "e823510c-6e40-4e53-a1d6-bb1b24e1a752"
      },
      "execution_count": null,
      "outputs": [
        {
          "output_type": "stream",
          "name": "stdout",
          "text": [
            "1\n",
            "<class 'tuple'>\n"
          ]
        }
      ]
    },
    {
      "cell_type": "code",
      "source": [
        "a=(2,3,4,6,7,5,9,8)\n",
        "print(min(a))\n",
        "print(max(a))\n",
        "print(type(a))"
      ],
      "metadata": {
        "colab": {
          "base_uri": "https://localhost:8080/"
        },
        "id": "eJto8E6fSTpz",
        "outputId": "3c25be36-a442-4693-cac0-7b993d1e9c58"
      },
      "execution_count": null,
      "outputs": [
        {
          "output_type": "stream",
          "name": "stdout",
          "text": [
            "2\n",
            "9\n",
            "<class 'tuple'>\n"
          ]
        }
      ]
    },
    {
      "cell_type": "code",
      "source": [
        "x=(\"apple\",\"banana\",\"sowji\",6,6,6,6.2)\n",
        "print(x.count(6))\n",
        "print(x)\n",
        "print(type(x))"
      ],
      "metadata": {
        "colab": {
          "base_uri": "https://localhost:8080/"
        },
        "id": "YwqIivH9OTsO",
        "outputId": "97bc07d7-7e5a-49dd-d4e0-62ba657192cb"
      },
      "execution_count": null,
      "outputs": [
        {
          "output_type": "stream",
          "name": "stdout",
          "text": [
            "3\n",
            "('apple', 'banana', 'sowji', 6, 6, 6, 6.2)\n",
            "<class 'tuple'>\n"
          ]
        }
      ]
    },
    {
      "cell_type": "code",
      "source": [
        "a=\"sridevi\"\n",
        "print(a)"
      ],
      "metadata": {
        "colab": {
          "base_uri": "https://localhost:8080/"
        },
        "id": "K6xG4x89ULHq",
        "outputId": "ca83929c-0349-486e-e18d-9d03540983a2"
      },
      "execution_count": null,
      "outputs": [
        {
          "output_type": "stream",
          "name": "stdout",
          "text": [
            "sridevi\n"
          ]
        }
      ]
    },
    {
      "cell_type": "code",
      "source": [
        "A=\"gangu naidu\"\n",
        "print(type(A))"
      ],
      "metadata": {
        "colab": {
          "base_uri": "https://localhost:8080/"
        },
        "id": "Gnosxkq8UXSa",
        "outputId": "f08dcf43-2f44-4682-ce24-55ebf57154c0"
      },
      "execution_count": null,
      "outputs": [
        {
          "output_type": "stream",
          "name": "stdout",
          "text": [
            "<class 'str'>\n"
          ]
        }
      ]
    },
    {
      "cell_type": "code",
      "source": [
        "x=7.4\n",
        "print(type(x))"
      ],
      "metadata": {
        "colab": {
          "base_uri": "https://localhost:8080/"
        },
        "id": "-SxBLyYAUpf5",
        "outputId": "285615a8-e1ef-444e-e607-e97958c8afef"
      },
      "execution_count": null,
      "outputs": [
        {
          "output_type": "stream",
          "name": "stdout",
          "text": [
            "<class 'float'>\n"
          ]
        }
      ]
    },
    {
      "cell_type": "code",
      "source": [
        "b=2j\n",
        "print(type(b))"
      ],
      "metadata": {
        "colab": {
          "base_uri": "https://localhost:8080/"
        },
        "id": "CoWX3OTfU3m9",
        "outputId": "92d32ee3-fdb7-4185-ab1d-7482543f5f10"
      },
      "execution_count": null,
      "outputs": [
        {
          "output_type": "stream",
          "name": "stdout",
          "text": [
            "<class 'complex'>\n"
          ]
        }
      ]
    },
    {
      "cell_type": "code",
      "source": [
        "x=[\"Sowjanya\",\"harsha\",\"apple\",\"pooji\"]\n",
        "print(type(x))"
      ],
      "metadata": {
        "colab": {
          "base_uri": "https://localhost:8080/"
        },
        "id": "l0Z9vPuJVeOg",
        "outputId": "d52f9daf-82e9-4268-8966-3e91b96c2329"
      },
      "execution_count": null,
      "outputs": [
        {
          "output_type": "stream",
          "name": "stdout",
          "text": [
            "<class 'list'>\n"
          ]
        }
      ]
    },
    {
      "cell_type": "code",
      "source": [
        "x=[\"mango\",\"pooji\",]\n",
        "print(x)"
      ],
      "metadata": {
        "colab": {
          "base_uri": "https://localhost:8080/"
        },
        "id": "m2jJLnoaV-e7",
        "outputId": "4cd56b84-3646-41e4-c4f8-240ee7ef410c"
      },
      "execution_count": null,
      "outputs": [
        {
          "output_type": "stream",
          "name": "stdout",
          "text": [
            "['mango', 'pooji']\n"
          ]
        }
      ]
    },
    {
      "cell_type": "code",
      "source": [
        "a=[2,4,6]\n",
        "b=a.append(3)\n",
        "print(b)"
      ],
      "metadata": {
        "colab": {
          "base_uri": "https://localhost:8080/"
        },
        "id": "I1tUKFrnWXk2",
        "outputId": "723d748f-3c5e-4dec-e45c-8b193cc2e680"
      },
      "execution_count": null,
      "outputs": [
        {
          "output_type": "stream",
          "name": "stdout",
          "text": [
            "None\n"
          ]
        }
      ]
    }
  ]
}